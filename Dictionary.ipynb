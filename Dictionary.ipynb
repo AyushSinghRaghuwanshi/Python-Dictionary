{
  "nbformat": 4,
  "nbformat_minor": 0,
  "metadata": {
    "colab": {
      "name": "Dictionary.ipynb",
      "provenance": [],
      "authorship_tag": "ABX9TyN4hTbxwuqzmQh1oT3a030Z",
      "include_colab_link": true
    },
    "kernelspec": {
      "name": "python3",
      "display_name": "Python 3"
    }
  },
  "cells": [
    {
      "cell_type": "markdown",
      "metadata": {
        "id": "view-in-github",
        "colab_type": "text"
      },
      "source": [
        "<a href=\"https://colab.research.google.com/github/AyushSinghRaghuwanshi/Python-Dictionary/blob/master/Dictionary.ipynb\" target=\"_parent\"><img src=\"https://colab.research.google.com/assets/colab-badge.svg\" alt=\"Open In Colab\"/></a>"
      ]
    },
    {
      "cell_type": "code",
      "metadata": {
        "id": "tZt1EMuTQ62D",
        "colab_type": "code",
        "colab": {
          "base_uri": "https://localhost:8080/",
          "height": 255
        },
        "outputId": "87dba3dd-e95b-4677-a4f3-9684d6e92309"
      },
      "source": [
        "import json\n",
        "data=json.load(open(\"data.json\"))\n",
        "type(data)\n",
        "print(data)\n",
        "data[\"rain\"]\n",
        "data[\"sea\"]\n",
        "data[\"sand\"]"
      ],
      "execution_count": null,
      "outputs": [
        {
          "output_type": "stream",
          "text": [
            "IOPub data rate exceeded.\n",
            "The notebook server will temporarily stop sending output\n",
            "to the client in order to avoid crashing it.\n",
            "To change this limit, set the config variable\n",
            "`--NotebookApp.iopub_data_rate_limit`.\n",
            "\n",
            "Current values:\n",
            "NotebookApp.iopub_data_rate_limit=1000000.0 (bytes/sec)\n",
            "NotebookApp.rate_limit_window=3.0 (secs)\n",
            "\n"
          ],
          "name": "stderr"
        },
        {
          "output_type": "execute_result",
          "data": {
            "text/plain": [
              "['A loose material consisting of small mineral particles, or rock and mineral particles, distinguishable by the naked eye; grains vary from almost spherical to angular, with a diameter range from 1/16 to 2 millimeters.',\n",
              " 'To cover with sand.',\n",
              " 'To rub with sandpaper.']"
            ]
          },
          "metadata": {
            "tags": []
          },
          "execution_count": 3
        }
      ]
    },
    {
      "cell_type": "markdown",
      "metadata": {
        "id": "eCUWs7qWV5D0",
        "colab_type": "text"
      },
      "source": [
        "INPUT FROM USER:-"
      ]
    },
    {
      "cell_type": "code",
      "metadata": {
        "id": "s5heMYmyRaN6",
        "colab_type": "code",
        "colab": {}
      },
      "source": [
        "import json\n",
        "import difflib\n",
        "from difflib import SequenceMatcher\n",
        "data=json.load(open(\"data.json\"))\n",
        "def translate(word):\n",
        "  word=word.lower()\n",
        "  if word in data:\n",
        "    return data[word]\n",
        "  elif len(get_close_matches(word,data.keys()))>0:\n",
        "    return \"Did you mean %s instead\" %get_close_matches(word,data.keys())[0]\n",
        "  else:\n",
        "    return \"The word doesn't exist. Please enter a valid word.\""
      ],
      "execution_count": 39,
      "outputs": []
    },
    {
      "cell_type": "code",
      "metadata": {
        "id": "EEbEyFL9SpBC",
        "colab_type": "code",
        "colab": {
          "base_uri": "https://localhost:8080/",
          "height": 50
        },
        "outputId": "ce145456-a86d-4b6e-be0b-b683d1e15d04"
      },
      "source": [
        "word=input(\"Enter word:\")\n",
        "print(translate(word))\n",
        "\n"
      ],
      "execution_count": 40,
      "outputs": [
        {
          "output_type": "stream",
          "text": [
            "Enter word:rainn\n",
            "Did you mean rain instead\n"
          ],
          "name": "stdout"
        }
      ]
    },
    {
      "cell_type": "code",
      "metadata": {
        "id": "Bu_n3Jz4TqgJ",
        "colab_type": "code",
        "colab": {
          "base_uri": "https://localhost:8080/",
          "height": 34
        },
        "outputId": "b54d721b-f686-4996-b91b-ed6d459a3cd7"
      },
      "source": [
        "import difflib\n",
        "from difflib import SequenceMatcher\n",
        "SequenceMatcher(None,\"rain\",\"rainn\").ratio()"
      ],
      "execution_count": null,
      "outputs": [
        {
          "output_type": "execute_result",
          "data": {
            "text/plain": [
              "0.8888888888888888"
            ]
          },
          "metadata": {
            "tags": []
          },
          "execution_count": 28
        }
      ]
    },
    {
      "cell_type": "code",
      "metadata": {
        "id": "i1IS1k5cbMka",
        "colab_type": "code",
        "colab": {
          "base_uri": "https://localhost:8080/",
          "height": 34
        },
        "outputId": "2bb6b906-c598-4db7-f713-bf9e19ce396a"
      },
      "source": [
        "import difflib\n",
        "from difflib import get_close_matches\n",
        "get_close_matches(\"Sandy\",data.keys(),n=5)"
      ],
      "execution_count": null,
      "outputs": [
        {
          "output_type": "execute_result",
          "data": {
            "text/plain": [
              "['handy', 'dandy', 'candy', 'Sanye', 'any']"
            ]
          },
          "metadata": {
            "tags": []
          },
          "execution_count": 34
        }
      ]
    },
    {
      "cell_type": "code",
      "metadata": {
        "id": "PrbNrfa4edNh",
        "colab_type": "code",
        "colab": {}
      },
      "source": [
        ""
      ],
      "execution_count": null,
      "outputs": []
    }
  ]
}