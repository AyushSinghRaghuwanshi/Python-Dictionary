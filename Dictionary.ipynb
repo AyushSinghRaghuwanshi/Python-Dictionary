{
  "nbformat": 4,
  "nbformat_minor": 0,
  "metadata": {
    "colab": {
      "name": "Dictionary.ipynb",
      "provenance": [],
      "authorship_tag": "ABX9TyOU/oXuhlHF+3/mLYeSxh19",
      "include_colab_link": true
    },
    "kernelspec": {
      "name": "python3",
      "display_name": "Python 3"
    }
  },
  "cells": [
    {
      "cell_type": "markdown",
      "metadata": {
        "id": "view-in-github",
        "colab_type": "text"
      },
      "source": [
        "<a href=\"https://colab.research.google.com/github/AyushSinghRaghuwanshi/Python-Dictionary/blob/master/Dictionary.ipynb\" target=\"_parent\"><img src=\"https://colab.research.google.com/assets/colab-badge.svg\" alt=\"Open In Colab\"/></a>"
      ]
    },
    {
      "cell_type": "code",
      "metadata": {
        "id": "tZt1EMuTQ62D",
        "colab_type": "code",
        "colab": {
          "base_uri": "https://localhost:8080/",
          "height": 255
        },
        "outputId": "87dba3dd-e95b-4677-a4f3-9684d6e92309"
      },
      "source": [
        "import json\n",
        "data=json.load(open(\"data.json\"))\n",
        "type(data)\n",
        "print(data)\n",
        "data[\"rain\"]\n",
        "data[\"sea\"]\n",
        "data[\"sand\"]"
      ],
      "execution_count": null,
      "outputs": [
        {
          "output_type": "stream",
          "text": [
            "IOPub data rate exceeded.\n",
            "The notebook server will temporarily stop sending output\n",
            "to the client in order to avoid crashing it.\n",
            "To change this limit, set the config variable\n",
            "`--NotebookApp.iopub_data_rate_limit`.\n",
            "\n",
            "Current values:\n",
            "NotebookApp.iopub_data_rate_limit=1000000.0 (bytes/sec)\n",
            "NotebookApp.rate_limit_window=3.0 (secs)\n",
            "\n"
          ],
          "name": "stderr"
        },
        {
          "output_type": "execute_result",
          "data": {
            "text/plain": [
              "['A loose material consisting of small mineral particles, or rock and mineral particles, distinguishable by the naked eye; grains vary from almost spherical to angular, with a diameter range from 1/16 to 2 millimeters.',\n",
              " 'To cover with sand.',\n",
              " 'To rub with sandpaper.']"
            ]
          },
          "metadata": {
            "tags": []
          },
          "execution_count": 3
        }
      ]
    },
    {
      "cell_type": "markdown",
      "metadata": {
        "id": "eCUWs7qWV5D0",
        "colab_type": "text"
      },
      "source": [
        "INPUT FROM USER:-"
      ]
    },
    {
      "cell_type": "code",
      "metadata": {
        "id": "PrbNrfa4edNh",
        "colab_type": "code",
        "colab": {
          "base_uri": "https://localhost:8080/",
          "height": 67
        },
        "outputId": "f1bd24e9-f87e-4ab6-bf73-f5257c554bf8"
      },
      "source": [
        "import json\n",
        "from difflib import get_close_matches\n",
        "data = json.load(open(\"data.json\"))\n",
        "def translate(w):\n",
        "    w = w.lower()\n",
        "    if w in data:\n",
        "        return data[w]\n",
        "    elif w.title() in data:\n",
        "        return data[w.title()]\n",
        "    elif w.upper() in data: #in case user enters words like USA or NATO\n",
        "        return data[w.upper()]\n",
        "    elif len(get_close_matches(w, data.keys())) > 0:\n",
        "        yn = input(\"Did you mean %s instead? Enter Y if yes, or N if no: \" % get_close_matches(w, data.keys())[0])\n",
        "        if yn == \"Y\":\n",
        "            return data[get_close_matches(w, data.keys())[0]]\n",
        "        elif yn == \"N\":\n",
        "            return \"The word doesn't exist. Please double check it.\"\n",
        "        else:\n",
        "            return \"We didn't understand your entry.\"\n",
        "    else:\n",
        "        return \"The word doesn't exist. Please double check it.\"\n",
        "word = input(\"Enter word: \")\n",
        "output = translate(word)\n",
        "if type(output) == list:\n",
        "    for item in output:\n",
        "        print(item)\n",
        "else:\n",
        "    print(output)"
      ],
      "execution_count": 16,
      "outputs": [
        {
          "output_type": "stream",
          "text": [
            "Enter word: SANDY\n",
            "Did you mean shandy instead? Enter Y if yes, or N if no: N\n",
            "The word doesn't exist. Please double check it.\n"
          ],
          "name": "stdout"
        }
      ]
    },
    {
      "cell_type": "code",
      "metadata": {
        "id": "cErzZu6ce43v",
        "colab_type": "code",
        "colab": {}
      },
      "source": [
        ""
      ],
      "execution_count": null,
      "outputs": []
    }
  ]
}